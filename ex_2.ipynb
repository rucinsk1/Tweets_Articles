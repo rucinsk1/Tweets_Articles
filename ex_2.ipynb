{
 "cells": [
  {
   "cell_type": "code",
   "execution_count": 25,
   "metadata": {},
   "outputs": [],
   "source": [
    "import pandas as pd\n",
    "import numpy as np\n",
    "from utils import delete_columns, preprocess_tweet_text\n",
    "from sklearn.feature_extraction.text import TfidfVectorizer\n",
    "from sklearn.model_selection import train_test_split\n",
    "from sklearn.metrics import accuracy_score\n",
    "from sklearn.naive_bayes import MultinomialNB\n",
    "from sklearn.linear_model import LogisticRegression"
   ]
  },
  {
   "cell_type": "code",
   "execution_count": 26,
   "metadata": {},
   "outputs": [],
   "source": [
    "colnames = [\"polarity\", \"id\", \"date\", \"query\", \"user\", \"text\"]\n",
    "df = pd.read_csv(\"data/Data_tweets.csv\",names=colnames)"
   ]
  },
  {
   "cell_type": "code",
   "execution_count": 27,
   "metadata": {},
   "outputs": [
    {
     "data": {
      "text/html": [
       "<div>\n",
       "<style scoped>\n",
       "    .dataframe tbody tr th:only-of-type {\n",
       "        vertical-align: middle;\n",
       "    }\n",
       "\n",
       "    .dataframe tbody tr th {\n",
       "        vertical-align: top;\n",
       "    }\n",
       "\n",
       "    .dataframe thead th {\n",
       "        text-align: right;\n",
       "    }\n",
       "</style>\n",
       "<table border=\"1\" class=\"dataframe\">\n",
       "  <thead>\n",
       "    <tr style=\"text-align: right;\">\n",
       "      <th></th>\n",
       "      <th>polarity</th>\n",
       "      <th>id</th>\n",
       "      <th>date</th>\n",
       "      <th>query</th>\n",
       "      <th>user</th>\n",
       "      <th>text</th>\n",
       "    </tr>\n",
       "  </thead>\n",
       "  <tbody>\n",
       "    <tr>\n",
       "      <th>0</th>\n",
       "      <td>0</td>\n",
       "      <td>2068921155</td>\n",
       "      <td>Sun Jun 07 14:56:42 PDT 2009</td>\n",
       "      <td>NO_QUERY</td>\n",
       "      <td>smiley_sophie</td>\n",
       "      <td>my arm still hurts from when i pulled it yeste...</td>\n",
       "    </tr>\n",
       "    <tr>\n",
       "      <th>1</th>\n",
       "      <td>4</td>\n",
       "      <td>2065871668</td>\n",
       "      <td>Sun Jun 07 09:27:21 PDT 2009</td>\n",
       "      <td>NO_QUERY</td>\n",
       "      <td>ImmaChocoholic</td>\n",
       "      <td>I have so much to do outside! Been looking at ...</td>\n",
       "    </tr>\n",
       "    <tr>\n",
       "      <th>2</th>\n",
       "      <td>0</td>\n",
       "      <td>1835774749</td>\n",
       "      <td>Mon May 18 06:43:27 PDT 2009</td>\n",
       "      <td>NO_QUERY</td>\n",
       "      <td>drmomentum</td>\n",
       "      <td>@AbsolutSara Yes, I knew about the clusterfark...</td>\n",
       "    </tr>\n",
       "    <tr>\n",
       "      <th>3</th>\n",
       "      <td>0</td>\n",
       "      <td>1967121891</td>\n",
       "      <td>Fri May 29 19:00:46 PDT 2009</td>\n",
       "      <td>NO_QUERY</td>\n",
       "      <td>sweetsheilx</td>\n",
       "      <td>Just woke up and i feel relieved Haha now i ha...</td>\n",
       "    </tr>\n",
       "    <tr>\n",
       "      <th>4</th>\n",
       "      <td>4</td>\n",
       "      <td>1695846172</td>\n",
       "      <td>Mon May 04 07:04:29 PDT 2009</td>\n",
       "      <td>NO_QUERY</td>\n",
       "      <td>monmariej</td>\n",
       "      <td>LOVING the hot weather forecast for the rest o...</td>\n",
       "    </tr>\n",
       "    <tr>\n",
       "      <th>...</th>\n",
       "      <td>...</td>\n",
       "      <td>...</td>\n",
       "      <td>...</td>\n",
       "      <td>...</td>\n",
       "      <td>...</td>\n",
       "      <td>...</td>\n",
       "    </tr>\n",
       "    <tr>\n",
       "      <th>29995</th>\n",
       "      <td>4</td>\n",
       "      <td>1989611723</td>\n",
       "      <td>Mon Jun 01 02:10:20 PDT 2009</td>\n",
       "      <td>NO_QUERY</td>\n",
       "      <td>danjwhite1</td>\n",
       "      <td>@AaronRenfree be strong, You can do it!  x</td>\n",
       "    </tr>\n",
       "    <tr>\n",
       "      <th>29996</th>\n",
       "      <td>0</td>\n",
       "      <td>2055276562</td>\n",
       "      <td>Sat Jun 06 09:01:28 PDT 2009</td>\n",
       "      <td>NO_QUERY</td>\n",
       "      <td>BethanyMcFlyX</td>\n",
       "      <td>@JessMcFlyxxx haha you ok? my tv has gone bloo...</td>\n",
       "    </tr>\n",
       "    <tr>\n",
       "      <th>29997</th>\n",
       "      <td>0</td>\n",
       "      <td>2207484837</td>\n",
       "      <td>Wed Jun 17 08:00:01 PDT 2009</td>\n",
       "      <td>NO_QUERY</td>\n",
       "      <td>nicphillips83</td>\n",
       "      <td>Torrential rain + Take That fans traffic = bad...</td>\n",
       "    </tr>\n",
       "    <tr>\n",
       "      <th>29998</th>\n",
       "      <td>4</td>\n",
       "      <td>2013485600</td>\n",
       "      <td>Tue Jun 02 22:47:33 PDT 2009</td>\n",
       "      <td>NO_QUERY</td>\n",
       "      <td>ghalya</td>\n",
       "      <td>feels loved... ahhhhhhhhhhh &amp;amp; now, i will ...</td>\n",
       "    </tr>\n",
       "    <tr>\n",
       "      <th>29999</th>\n",
       "      <td>4</td>\n",
       "      <td>1972226101</td>\n",
       "      <td>Sat May 30 08:49:12 PDT 2009</td>\n",
       "      <td>NO_QUERY</td>\n",
       "      <td>TizBanana</td>\n",
       "      <td>@tsarnick Ok, the party would have been awesom...</td>\n",
       "    </tr>\n",
       "  </tbody>\n",
       "</table>\n",
       "<p>30000 rows × 6 columns</p>\n",
       "</div>"
      ],
      "text/plain": [
       "       polarity          id                          date     query  \\\n",
       "0             0  2068921155  Sun Jun 07 14:56:42 PDT 2009  NO_QUERY   \n",
       "1             4  2065871668  Sun Jun 07 09:27:21 PDT 2009  NO_QUERY   \n",
       "2             0  1835774749  Mon May 18 06:43:27 PDT 2009  NO_QUERY   \n",
       "3             0  1967121891  Fri May 29 19:00:46 PDT 2009  NO_QUERY   \n",
       "4             4  1695846172  Mon May 04 07:04:29 PDT 2009  NO_QUERY   \n",
       "...         ...         ...                           ...       ...   \n",
       "29995         4  1989611723  Mon Jun 01 02:10:20 PDT 2009  NO_QUERY   \n",
       "29996         0  2055276562  Sat Jun 06 09:01:28 PDT 2009  NO_QUERY   \n",
       "29997         0  2207484837  Wed Jun 17 08:00:01 PDT 2009  NO_QUERY   \n",
       "29998         4  2013485600  Tue Jun 02 22:47:33 PDT 2009  NO_QUERY   \n",
       "29999         4  1972226101  Sat May 30 08:49:12 PDT 2009  NO_QUERY   \n",
       "\n",
       "                 user                                               text  \n",
       "0       smiley_sophie  my arm still hurts from when i pulled it yeste...  \n",
       "1      ImmaChocoholic  I have so much to do outside! Been looking at ...  \n",
       "2          drmomentum  @AbsolutSara Yes, I knew about the clusterfark...  \n",
       "3         sweetsheilx  Just woke up and i feel relieved Haha now i ha...  \n",
       "4           monmariej  LOVING the hot weather forecast for the rest o...  \n",
       "...               ...                                                ...  \n",
       "29995      danjwhite1         @AaronRenfree be strong, You can do it!  x  \n",
       "29996   BethanyMcFlyX  @JessMcFlyxxx haha you ok? my tv has gone bloo...  \n",
       "29997   nicphillips83  Torrential rain + Take That fans traffic = bad...  \n",
       "29998          ghalya  feels loved... ahhhhhhhhhhh &amp; now, i will ...  \n",
       "29999       TizBanana  @tsarnick Ok, the party would have been awesom...  \n",
       "\n",
       "[30000 rows x 6 columns]"
      ]
     },
     "execution_count": 27,
     "metadata": {},
     "output_type": "execute_result"
    }
   ],
   "source": [
    "df"
   ]
  },
  {
   "cell_type": "markdown",
   "metadata": {},
   "source": [
    "Checking column's properties"
   ]
  },
  {
   "cell_type": "code",
   "execution_count": 28,
   "metadata": {},
   "outputs": [
    {
     "data": {
      "text/plain": [
       "polarity     int64\n",
       "id           int64\n",
       "date        object\n",
       "query       object\n",
       "user        object\n",
       "text        object\n",
       "dtype: object"
      ]
     },
     "execution_count": 28,
     "metadata": {},
     "output_type": "execute_result"
    }
   ],
   "source": [
    "df.dtypes"
   ]
  },
  {
   "cell_type": "code",
   "execution_count": 29,
   "metadata": {},
   "outputs": [
    {
     "name": "stdout",
     "output_type": "stream",
     "text": [
      "[0 4]\n",
      "['NO_QUERY']\n",
      "(27770,)\n"
     ]
    }
   ],
   "source": [
    "print(df[\"polarity\"].unique())\n",
    "print(df[\"query\"].unique())\n",
    "print(df[\"user\"].unique().shape)"
   ]
  },
  {
   "cell_type": "code",
   "execution_count": 30,
   "metadata": {},
   "outputs": [],
   "source": [
    "useless_cols = [\"id\", \"date\", \"query\", \"user\"]\n",
    "df = delete_columns(df, useless_cols)"
   ]
  },
  {
   "cell_type": "code",
   "execution_count": 31,
   "metadata": {},
   "outputs": [],
   "source": [
    "df.text = df['text'].apply(preprocess_tweet_text)"
   ]
  },
  {
   "cell_type": "code",
   "execution_count": 32,
   "metadata": {},
   "outputs": [
    {
     "data": {
      "text/html": [
       "<div>\n",
       "<style scoped>\n",
       "    .dataframe tbody tr th:only-of-type {\n",
       "        vertical-align: middle;\n",
       "    }\n",
       "\n",
       "    .dataframe tbody tr th {\n",
       "        vertical-align: top;\n",
       "    }\n",
       "\n",
       "    .dataframe thead th {\n",
       "        text-align: right;\n",
       "    }\n",
       "</style>\n",
       "<table border=\"1\" class=\"dataframe\">\n",
       "  <thead>\n",
       "    <tr style=\"text-align: right;\">\n",
       "      <th></th>\n",
       "      <th>polarity</th>\n",
       "      <th>text</th>\n",
       "    </tr>\n",
       "  </thead>\n",
       "  <tbody>\n",
       "    <tr>\n",
       "      <th>0</th>\n",
       "      <td>0</td>\n",
       "      <td>arm still hurts pulled yesterday</td>\n",
       "    </tr>\n",
       "    <tr>\n",
       "      <th>1</th>\n",
       "      <td>4</td>\n",
       "      <td>I much outside Been looking 4 years wno energy...</td>\n",
       "    </tr>\n",
       "    <tr>\n",
       "      <th>2</th>\n",
       "      <td>0</td>\n",
       "      <td>Yes I knew clusterfark Its way since right PhD...</td>\n",
       "    </tr>\n",
       "    <tr>\n",
       "      <th>3</th>\n",
       "      <td>0</td>\n",
       "      <td>Just woke feel relieved Haha go work 2 hours</td>\n",
       "    </tr>\n",
       "    <tr>\n",
       "      <th>4</th>\n",
       "      <td>4</td>\n",
       "      <td>LOVING hot weather forecast rest week Summer a...</td>\n",
       "    </tr>\n",
       "    <tr>\n",
       "      <th>...</th>\n",
       "      <td>...</td>\n",
       "      <td>...</td>\n",
       "    </tr>\n",
       "    <tr>\n",
       "      <th>29995</th>\n",
       "      <td>4</td>\n",
       "      <td>strong You x</td>\n",
       "    </tr>\n",
       "    <tr>\n",
       "      <th>29996</th>\n",
       "      <td>0</td>\n",
       "      <td>haha ok tv gone bloody gay boo sucks xx</td>\n",
       "    </tr>\n",
       "    <tr>\n",
       "      <th>29997</th>\n",
       "      <td>0</td>\n",
       "      <td>Torrential rain Take That fans traffic bad fir...</td>\n",
       "    </tr>\n",
       "    <tr>\n",
       "      <th>29998</th>\n",
       "      <td>4</td>\n",
       "      <td>feels loved ahhhhhhhhhhh amp sleep angels</td>\n",
       "    </tr>\n",
       "    <tr>\n",
       "      <th>29999</th>\n",
       "      <td>4</td>\n",
       "      <td>Ok party would awesome</td>\n",
       "    </tr>\n",
       "  </tbody>\n",
       "</table>\n",
       "<p>30000 rows × 2 columns</p>\n",
       "</div>"
      ],
      "text/plain": [
       "       polarity                                               text\n",
       "0             0                   arm still hurts pulled yesterday\n",
       "1             4  I much outside Been looking 4 years wno energy...\n",
       "2             0  Yes I knew clusterfark Its way since right PhD...\n",
       "3             0       Just woke feel relieved Haha go work 2 hours\n",
       "4             4  LOVING hot weather forecast rest week Summer a...\n",
       "...         ...                                                ...\n",
       "29995         4                                       strong You x\n",
       "29996         0            haha ok tv gone bloody gay boo sucks xx\n",
       "29997         0  Torrential rain Take That fans traffic bad fir...\n",
       "29998         4          feels loved ahhhhhhhhhhh amp sleep angels\n",
       "29999         4                             Ok party would awesome\n",
       "\n",
       "[30000 rows x 2 columns]"
      ]
     },
     "execution_count": 32,
     "metadata": {},
     "output_type": "execute_result"
    }
   ],
   "source": [
    "df"
   ]
  },
  {
   "cell_type": "markdown",
   "metadata": {},
   "source": [
    "Preparing data for ML models"
   ]
  },
  {
   "cell_type": "code",
   "execution_count": 14,
   "metadata": {},
   "outputs": [],
   "source": [
    "\n",
    "vector = TfidfVectorizer(sublinear_tf=True)\n",
    "vector.fit(np.array(df.iloc[:,1]).ravel())\n",
    "X = vector.transform(np.array(df.iloc[:,1]).ravel())\n",
    "y = np.array(df.iloc[:, 0]).ravel()\n",
    "X_train, X_test, y_train, y_test = train_test_split(X, y, test_size=0.25, random_state=123)"
   ]
  },
  {
   "cell_type": "markdown",
   "metadata": {},
   "source": [
    "Logistics Regression model"
   ]
  },
  {
   "cell_type": "code",
   "execution_count": 19,
   "metadata": {},
   "outputs": [],
   "source": [
    "LR_model = LogisticRegression(solver='lbfgs')\n",
    "LR_model.fit(X_train, y_train)\n",
    "y_predict_lr = LR_model.predict(X_test)"
   ]
  },
  {
   "cell_type": "markdown",
   "metadata": {},
   "source": [
    "Naive Bayes model"
   ]
  },
  {
   "cell_type": "code",
   "execution_count": 20,
   "metadata": {},
   "outputs": [],
   "source": [
    "NB_model = MultinomialNB()\n",
    "NB_model.fit(X_train, y_train)\n",
    "y_predict_nb = NB_model.predict(X_test)"
   ]
  },
  {
   "cell_type": "markdown",
   "metadata": {},
   "source": [
    "Results comparison"
   ]
  },
  {
   "cell_type": "code",
   "execution_count": 22,
   "metadata": {},
   "outputs": [
    {
     "name": "stdout",
     "output_type": "stream",
     "text": [
      "Logistics Regression accuracy: 0.7510666666666667\n",
      "Naive Bayes: 0.7373333333333333\n"
     ]
    }
   ],
   "source": [
    "print(\"Logistics Regression accuracy:\", accuracy_score(y_test, y_predict_lr))\n",
    "print(\"Naive Bayes:\", accuracy_score(y_test, y_predict_nb))"
   ]
  }
 ],
 "metadata": {
  "kernelspec": {
   "display_name": "Python 3.9.6 64-bit ('3.9.6')",
   "language": "python",
   "name": "python3"
  },
  "language_info": {
   "codemirror_mode": {
    "name": "ipython",
    "version": 3
   },
   "file_extension": ".py",
   "mimetype": "text/x-python",
   "name": "python",
   "nbconvert_exporter": "python",
   "pygments_lexer": "ipython3",
   "version": "3.9.6"
  },
  "orig_nbformat": 4,
  "vscode": {
   "interpreter": {
    "hash": "39ba47a9a53451105eaa2a973ddb3f33b479be402b4995f0c5e30cff1278c8e2"
   }
  }
 },
 "nbformat": 4,
 "nbformat_minor": 2
}
