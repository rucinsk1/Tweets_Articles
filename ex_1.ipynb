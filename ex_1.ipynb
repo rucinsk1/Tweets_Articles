{
 "cells": [
  {
   "cell_type": "code",
   "execution_count": 9,
   "metadata": {},
   "outputs": [],
   "source": [
    "import pandas as pd\n",
    "import numpy as np\n",
    "import scipy\n",
    "from utils import load_data, preprocess_tweet_text\n",
    "from sklearn.feature_extraction.text import TfidfVectorizer\n",
    "from sklearn.model_selection import train_test_split\n",
    "from sklearn.metrics import accuracy_score\n",
    "from sklearn.naive_bayes import MultinomialNB\n",
    "from sklearn.linear_model import LogisticRegression\n",
    "from sklearn.svm import SVC\n"
   ]
  },
  {
   "cell_type": "markdown",
   "metadata": {},
   "source": [
    "Preparing dataframe"
   ]
  },
  {
   "cell_type": "code",
   "execution_count": 10,
   "metadata": {},
   "outputs": [],
   "source": [
    "bodies = load_data(\"bodies\")\n",
    "stances = load_data(\"stances\")\n",
    "df = pd.merge(stances, bodies, on=['Body ID'])\n",
    "columns_titles = [\"Headline\",\"articleBody\", \"Stance\"]\n",
    "df=df.reindex(columns=columns_titles)"
   ]
  },
  {
   "cell_type": "code",
   "execution_count": 11,
   "metadata": {},
   "outputs": [
    {
     "data": {
      "text/plain": [
       "array(['unrelated', 'discuss', 'agree', 'disagree'], dtype=object)"
      ]
     },
     "execution_count": 11,
     "metadata": {},
     "output_type": "execute_result"
    }
   ],
   "source": [
    "df.Stance.unique()"
   ]
  },
  {
   "cell_type": "markdown",
   "metadata": {},
   "source": [
    "Encoding Stance value to numeric"
   ]
  },
  {
   "cell_type": "code",
   "execution_count": 12,
   "metadata": {},
   "outputs": [],
   "source": [
    "df = df.replace({'Stance' : { 'unrelated' : 0, 'disagree' : 1, 'discuss' : 2, 'agree' : 3 }})"
   ]
  },
  {
   "cell_type": "code",
   "execution_count": 13,
   "metadata": {},
   "outputs": [],
   "source": [
    "df.Headline = df['Headline'].apply(preprocess_tweet_text)\n",
    "df.articleBody = df['articleBody'].apply(preprocess_tweet_text)"
   ]
  },
  {
   "cell_type": "code",
   "execution_count": 14,
   "metadata": {},
   "outputs": [
    {
     "data": {
      "text/html": [
       "<div>\n",
       "<style scoped>\n",
       "    .dataframe tbody tr th:only-of-type {\n",
       "        vertical-align: middle;\n",
       "    }\n",
       "\n",
       "    .dataframe tbody tr th {\n",
       "        vertical-align: top;\n",
       "    }\n",
       "\n",
       "    .dataframe thead th {\n",
       "        text-align: right;\n",
       "    }\n",
       "</style>\n",
       "<table border=\"1\" class=\"dataframe\">\n",
       "  <thead>\n",
       "    <tr style=\"text-align: right;\">\n",
       "      <th></th>\n",
       "      <th>Headline</th>\n",
       "      <th>articleBody</th>\n",
       "      <th>Stance</th>\n",
       "    </tr>\n",
       "  </thead>\n",
       "  <tbody>\n",
       "    <tr>\n",
       "      <th>0</th>\n",
       "      <td>Police find mass graves least 15 bodies near M...</td>\n",
       "      <td>Danny Boyle directing untitled film Seth Rogen...</td>\n",
       "      <td>0</td>\n",
       "    </tr>\n",
       "    <tr>\n",
       "      <th>1</th>\n",
       "      <td>Seth Rogen Play Apple ’ Steve Wozniak</td>\n",
       "      <td>Danny Boyle directing untitled film Seth Rogen...</td>\n",
       "      <td>2</td>\n",
       "    </tr>\n",
       "    <tr>\n",
       "      <th>2</th>\n",
       "      <td>Mexico police find mass grave near site 43 stu...</td>\n",
       "      <td>Danny Boyle directing untitled film Seth Rogen...</td>\n",
       "      <td>0</td>\n",
       "    </tr>\n",
       "    <tr>\n",
       "      <th>3</th>\n",
       "      <td>Mexico Says Missing Students Not Found In Firs...</td>\n",
       "      <td>Danny Boyle directing untitled film Seth Rogen...</td>\n",
       "      <td>0</td>\n",
       "    </tr>\n",
       "    <tr>\n",
       "      <th>4</th>\n",
       "      <td>New iOS 8 bug delete iCloud documents</td>\n",
       "      <td>Danny Boyle directing untitled film Seth Rogen...</td>\n",
       "      <td>0</td>\n",
       "    </tr>\n",
       "    <tr>\n",
       "      <th>...</th>\n",
       "      <td>...</td>\n",
       "      <td>...</td>\n",
       "      <td>...</td>\n",
       "    </tr>\n",
       "    <tr>\n",
       "      <th>49967</th>\n",
       "      <td>Amazon Is Opening BrickandMortar Store Manhattan</td>\n",
       "      <td>Amazon cyber store sells everything plans open...</td>\n",
       "      <td>3</td>\n",
       "    </tr>\n",
       "    <tr>\n",
       "      <th>49968</th>\n",
       "      <td>Elon University banned term ‘ freshman ’ despi...</td>\n",
       "      <td>ELON NC – A recent rumor claims Elon Universit...</td>\n",
       "      <td>3</td>\n",
       "    </tr>\n",
       "    <tr>\n",
       "      <th>49969</th>\n",
       "      <td>Fake BBC News website set carry Charlie Hebdo ...</td>\n",
       "      <td>A realisticlooking fake BBC News website set c...</td>\n",
       "      <td>3</td>\n",
       "    </tr>\n",
       "    <tr>\n",
       "      <th>49970</th>\n",
       "      <td>Apple forced nix key health features smartwatc...</td>\n",
       "      <td>The healthfocused smartwatch Apple initially e...</td>\n",
       "      <td>2</td>\n",
       "    </tr>\n",
       "    <tr>\n",
       "      <th>49971</th>\n",
       "      <td>If want Apple Watch ’ probably trekking Apple ...</td>\n",
       "      <td>We still ’ know exact date Apple Watch ship ne...</td>\n",
       "      <td>2</td>\n",
       "    </tr>\n",
       "  </tbody>\n",
       "</table>\n",
       "<p>49972 rows × 3 columns</p>\n",
       "</div>"
      ],
      "text/plain": [
       "                                                Headline  \\\n",
       "0      Police find mass graves least 15 bodies near M...   \n",
       "1                  Seth Rogen Play Apple ’ Steve Wozniak   \n",
       "2      Mexico police find mass grave near site 43 stu...   \n",
       "3      Mexico Says Missing Students Not Found In Firs...   \n",
       "4                  New iOS 8 bug delete iCloud documents   \n",
       "...                                                  ...   \n",
       "49967   Amazon Is Opening BrickandMortar Store Manhattan   \n",
       "49968  Elon University banned term ‘ freshman ’ despi...   \n",
       "49969  Fake BBC News website set carry Charlie Hebdo ...   \n",
       "49970  Apple forced nix key health features smartwatc...   \n",
       "49971  If want Apple Watch ’ probably trekking Apple ...   \n",
       "\n",
       "                                             articleBody  Stance  \n",
       "0      Danny Boyle directing untitled film Seth Rogen...       0  \n",
       "1      Danny Boyle directing untitled film Seth Rogen...       2  \n",
       "2      Danny Boyle directing untitled film Seth Rogen...       0  \n",
       "3      Danny Boyle directing untitled film Seth Rogen...       0  \n",
       "4      Danny Boyle directing untitled film Seth Rogen...       0  \n",
       "...                                                  ...     ...  \n",
       "49967  Amazon cyber store sells everything plans open...       3  \n",
       "49968  ELON NC – A recent rumor claims Elon Universit...       3  \n",
       "49969  A realisticlooking fake BBC News website set c...       3  \n",
       "49970  The healthfocused smartwatch Apple initially e...       2  \n",
       "49971  We still ’ know exact date Apple Watch ship ne...       2  \n",
       "\n",
       "[49972 rows x 3 columns]"
      ]
     },
     "execution_count": 14,
     "metadata": {},
     "output_type": "execute_result"
    }
   ],
   "source": [
    "df"
   ]
  },
  {
   "cell_type": "code",
   "execution_count": 15,
   "metadata": {},
   "outputs": [],
   "source": [
    "tfidf = TfidfVectorizer(max_features = 50000, \n",
    "                              ngram_range = (1,3),\n",
    "                              stop_words = \"english\")\n",
    "X_Headline = tfidf.fit_transform(df[\"Headline\"].tolist())\n",
    "X_Body = tfidf.fit_transform(df[\"articleBody\"].tolist())\n",
    "X = scipy.sparse.hstack((X_Headline, \n",
    "                         X_Body,\n",
    "                         )).tocsr()\n",
    "y = np.array(df.iloc[:, 2]).ravel()\n",
    "X_train, X_test, y_train, y_test = train_test_split(X, y, test_size=0.25, random_state=123)"
   ]
  },
  {
   "cell_type": "markdown",
   "metadata": {},
   "source": [
    "Training Logistics Regression model"
   ]
  },
  {
   "cell_type": "code",
   "execution_count": 16,
   "metadata": {},
   "outputs": [
    {
     "name": "stderr",
     "output_type": "stream",
     "text": [
      "/home/konrad/.pyenv/versions/3.9.6/lib/python3.9/site-packages/sklearn/linear_model/_logistic.py:444: ConvergenceWarning: lbfgs failed to converge (status=1):\n",
      "STOP: TOTAL NO. of ITERATIONS REACHED LIMIT.\n",
      "\n",
      "Increase the number of iterations (max_iter) or scale the data as shown in:\n",
      "    https://scikit-learn.org/stable/modules/preprocessing.html\n",
      "Please also refer to the documentation for alternative solver options:\n",
      "    https://scikit-learn.org/stable/modules/linear_model.html#logistic-regression\n",
      "  n_iter_i = _check_optimize_result(\n"
     ]
    }
   ],
   "source": [
    "LR_model = LogisticRegression(solver='lbfgs')\n",
    "LR_model.fit(X_train, y_train)\n",
    "y_predict_lr = LR_model.predict(X_test)"
   ]
  },
  {
   "cell_type": "markdown",
   "metadata": {},
   "source": [
    "Training Naive Bayes model"
   ]
  },
  {
   "cell_type": "code",
   "execution_count": 17,
   "metadata": {},
   "outputs": [],
   "source": [
    "NB_model = MultinomialNB()\n",
    "NB_model.fit(X_train, y_train)\n",
    "y_predict_nb = NB_model.predict(X_test)"
   ]
  },
  {
   "cell_type": "markdown",
   "metadata": {},
   "source": [
    "Comparing accuracies:"
   ]
  },
  {
   "cell_type": "code",
   "execution_count": 18,
   "metadata": {},
   "outputs": [
    {
     "name": "stdout",
     "output_type": "stream",
     "text": [
      "Logistics Regression accuracy: 0.8255823261026175\n",
      "Naive Bayes: 0.6842231649723846\n"
     ]
    }
   ],
   "source": [
    "print(\"Logistics Regression accuracy:\", accuracy_score(y_test, y_predict_lr))\n",
    "print(\"Naive Bayes:\", accuracy_score(y_test, y_predict_nb))"
   ]
  }
 ],
 "metadata": {
  "kernelspec": {
   "display_name": "Python 3.9.6 64-bit ('3.9.6')",
   "language": "python",
   "name": "python3"
  },
  "language_info": {
   "codemirror_mode": {
    "name": "ipython",
    "version": 3
   },
   "file_extension": ".py",
   "mimetype": "text/x-python",
   "name": "python",
   "nbconvert_exporter": "python",
   "pygments_lexer": "ipython3",
   "version": "3.9.6"
  },
  "orig_nbformat": 4,
  "vscode": {
   "interpreter": {
    "hash": "39ba47a9a53451105eaa2a973ddb3f33b479be402b4995f0c5e30cff1278c8e2"
   }
  }
 },
 "nbformat": 4,
 "nbformat_minor": 2
}
